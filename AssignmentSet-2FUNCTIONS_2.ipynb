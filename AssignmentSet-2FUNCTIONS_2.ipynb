{
  "nbformat": 4,
  "nbformat_minor": 0,
  "metadata": {
    "colab": {
      "provenance": []
    },
    "kernelspec": {
      "name": "python3",
      "display_name": "Python 3"
    },
    "language_info": {
      "name": "python"
    }
  },
  "cells": [
    {
      "cell_type": "markdown",
      "source": [
        "*** USE THE CONCEPT OF FUNCTIONS TO SOLVE THE BELOW PROGRAMMING QUESTIONS ***"
      ],
      "metadata": {
        "id": "iW-mnZaZRsWX"
      }
    },
    {
      "cell_type": "markdown",
      "source": [
        "1) Write a Python function that accepts a string and counts the number of upper and lower case letters.\n",
        "\n",
        "Sample String : 'The quick Brow Fox'\n",
        "\n",
        "Expected Output :\n",
        "\n",
        "No. of Upper case characters : 3\n",
        "\n",
        "No. of Lower case Characters : 12"
      ],
      "metadata": {
        "id": "gZjDc6eiRsYf"
      }
    },
    {
      "cell_type": "code",
      "source": [
        "#WRITE YOUR CODE HERE\n",
        "s=input()\n",
        "c1=0\n",
        "c2=0\n",
        "for i in s:\n",
        "  if i>='a' and i<='z':\n",
        "    c1+=1\n",
        "  elif(i>='A' and i<='Z'):\n",
        "    c2+=1\n",
        "print(\"No. of Upper case characters:\",c2)\n",
        "print(\"No. of Lower case characters:\",c1)\n"
      ],
      "metadata": {
        "id": "wGtk-weiR-5t",
        "colab": {
          "base_uri": "https://localhost:8080/"
        },
        "outputId": "b068e457-2952-4526-c5dc-e9a3aabdcc91"
      },
      "execution_count": 2,
      "outputs": [
        {
          "output_type": "stream",
          "name": "stdout",
          "text": [
            "The quick Brow Fox\n",
            "No. of Upper case characters: 3\n",
            "No. of Lower case characters: 12\n"
          ]
        }
      ]
    },
    {
      "cell_type": "markdown",
      "source": [
        "2) Write a Python function that takes a list and returns a new list with distinct elements from the first list.\n",
        "\n",
        "Sample List : [1,2,3,3,3,3,4,5]\n",
        "\n",
        "Unique List : [1, 2, 3, 4, 5]"
      ],
      "metadata": {
        "id": "bmt7_PqqRsaw"
      }
    },
    {
      "cell_type": "code",
      "source": [
        "#WRITE YOUR CODE HEREl1=\n",
        "l1=list(map(int,input(\"Sample List:\").split()))\n",
        "s=set()\n",
        "l2=[]\n",
        "for i in l1:\n",
        "  if(i not in s):\n",
        "    l2.append(i)\n",
        "    s.add(i)\n",
        "print(\"Unique List:\",l2)"
      ],
      "metadata": {
        "id": "Za2S_kbzSQJZ",
        "colab": {
          "base_uri": "https://localhost:8080/"
        },
        "outputId": "c1e364a7-ff43-42c8-a7e4-ac0a410ff3e2"
      },
      "execution_count": 5,
      "outputs": [
        {
          "output_type": "stream",
          "name": "stdout",
          "text": [
            "Sample List:1 2 3 3 3 3 4 5\n",
            "Unique List: [1, 2, 3, 4, 5]\n"
          ]
        }
      ]
    },
    {
      "cell_type": "markdown",
      "source": [
        "3) Write a Python function that takes a number as a parameter and checks whether the number is prime or not.\n",
        "\n",
        "Note : A prime number (or a prime) is a natural number greater than 1 and that has no positive divisors other than 1 and itself."
      ],
      "metadata": {
        "id": "adx-jfbnRsdC"
      }
    },
    {
      "cell_type": "code",
      "source": [
        "#WRITE YOUR CODE HERE\n",
        "def prime(n):\n",
        "  i=2\n",
        "  while(i*i<=n):\n",
        "    if(n%i==0):\n",
        "      return False\n",
        "    i+=1\n",
        "  return True\n",
        "n=int(input())\n",
        "if(prime(n)):\n",
        "  print(\"Prime Number\")\n",
        "else:\n",
        "  print(\"Composite number\")"
      ],
      "metadata": {
        "id": "RaBolJpSSa4N",
        "colab": {
          "base_uri": "https://localhost:8080/"
        },
        "outputId": "1aa7564a-e951-48aa-f9f1-2f3dafbfc019"
      },
      "execution_count": 11,
      "outputs": [
        {
          "output_type": "stream",
          "name": "stdout",
          "text": [
            "7\n",
            "Prime Number\n"
          ]
        }
      ]
    },
    {
      "cell_type": "markdown",
      "source": [
        "4)Write a Python program to print the even numbers from a given list.\n",
        "\n",
        "Sample List : [1, 2, 3, 4, 5, 6, 7, 8, 9]\n",
        "\n",
        "Expected Result : [2, 4, 6, 8]\n"
      ],
      "metadata": {
        "id": "P2i2bBwIRsfQ"
      }
    },
    {
      "cell_type": "code",
      "source": [
        "# WRITE YOUR CODE HERE\n",
        "def check(l1):\n",
        "  l2=[]\n",
        "  for i in l1:\n",
        "    if(i%2==0):\n",
        "      l2.append(i)\n",
        "  return l2\n",
        "l1=list(map(int,input(\"Sample List:\").split()))\n",
        "print(\"Expected Result:\",check(l1))"
      ],
      "metadata": {
        "id": "32Rk_UCp_pAT",
        "colab": {
          "base_uri": "https://localhost:8080/"
        },
        "outputId": "379c6a0c-2ca7-4953-b0a7-0f683b212ace"
      },
      "execution_count": 12,
      "outputs": [
        {
          "output_type": "stream",
          "name": "stdout",
          "text": [
            "Sample List:1 2 3 4 5 6 7 8 9\n",
            "Expected Result: [2, 4, 6, 8]\n"
          ]
        }
      ]
    },
    {
      "cell_type": "markdown",
      "source": [
        "5) Write a Python function to check whether a string is a pangram or not.\n",
        "\n",
        "Note : Pangrams are words or sentences containing every letter of the alphabet at least once.\n",
        "\n",
        "For example : \"The quick brown fox jumps over the lazy dog\""
      ],
      "metadata": {
        "id": "kaTTpignRsh7"
      }
    },
    {
      "cell_type": "code",
      "source": [
        "# WRITE YOUR CODE HERE\n",
        "def check(s):\n",
        "  set1=set()\n",
        "  s1=s.lower()\n",
        "  for i in s1:\n",
        "    set1.add(i)\n",
        "  a=\"abcdefghijklmnopqrstuvwxyz\"\n",
        "  for i in a:\n",
        "    if(i not in set1):\n",
        "      return False\n",
        "  return True\n",
        "s=input()\n",
        "if(check(s)):\n",
        "  print(\"PANAGRAM\")\n",
        "else:\n",
        "  print(\"NOT PANAGRAM\")"
      ],
      "metadata": {
        "id": "EHEntu3P_5s8",
        "colab": {
          "base_uri": "https://localhost:8080/"
        },
        "outputId": "50f730d5-b837-463f-9905-75ab8a4007c0"
      },
      "execution_count": 2,
      "outputs": [
        {
          "output_type": "stream",
          "name": "stdout",
          "text": [
            "The quick brown fox jumps over the lazy dog\n",
            "PANAGRAM\n"
          ]
        }
      ]
    },
    {
      "cell_type": "markdown",
      "source": [],
      "metadata": {
        "id": "3InqavJfRslk"
      }
    }
  ]
}